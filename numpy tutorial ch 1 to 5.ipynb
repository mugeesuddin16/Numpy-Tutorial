{
 "cells": [
  {
   "cell_type": "markdown",
   "id": "46ec62c2-e79e-4687-9ff7-c003d893ecf3",
   "metadata": {},
   "source": [
    "# Day 1: Installing and Creating Array"
   ]
  },
  {
   "cell_type": "code",
   "execution_count": 7,
   "id": "84ff4732-df3a-4034-8bf8-059a5701f3d6",
   "metadata": {},
   "outputs": [
    {
     "name": "stdout",
     "output_type": "stream",
     "text": [
      "Defaulting to user installation because normal site-packages is not writeableNote: you may need to restart the kernel to use updated packages.\n",
      "\n",
      "Requirement already satisfied: numpy in c:\\programdata\\anaconda3\\lib\\site-packages (1.26.4)\n"
     ]
    }
   ],
   "source": [
    "pip install numpy\n"
   ]
  },
  {
   "cell_type": "markdown",
   "id": "68ceeefe-4b66-49da-86c6-9a7d7c408455",
   "metadata": {},
   "source": [
    "# import numpy"
   ]
  },
  {
   "cell_type": "code",
   "execution_count": 1,
   "id": "966b7496-6ac2-45ca-808f-7aa38db548e9",
   "metadata": {},
   "outputs": [],
   "source": [
    "import numpy as np"
   ]
  },
  {
   "cell_type": "markdown",
   "id": "024a6956-bd93-4d45-9561-f1ba05b74cf2",
   "metadata": {},
   "source": [
    "# creating array"
   ]
  },
  {
   "cell_type": "code",
   "execution_count": 9,
   "id": "3c441792-b313-40cd-8645-864b4b126b78",
   "metadata": {},
   "outputs": [],
   "source": [
    "a = np.array([1,2,3])"
   ]
  },
  {
   "cell_type": "code",
   "execution_count": 10,
   "id": "23cfae54-c583-45b1-b9c7-a6ae0fcb0531",
   "metadata": {},
   "outputs": [],
   "source": [
    "b = np.array([[1,2],[3,4]])"
   ]
  },
  {
   "cell_type": "code",
   "execution_count": 11,
   "id": "40ec9e77-991b-4261-875e-fea4a9e72fa2",
   "metadata": {},
   "outputs": [],
   "source": [
    "c = np.array([[3,4,5],[5,6,7],[7,8,9]])"
   ]
  },
  {
   "cell_type": "code",
   "execution_count": 12,
   "id": "b5f94796-7147-420b-8552-d59dbd012daf",
   "metadata": {},
   "outputs": [
    {
     "name": "stdout",
     "output_type": "stream",
     "text": [
      "(3,)\n"
     ]
    }
   ],
   "source": [
    "print(a.shape)"
   ]
  },
  {
   "cell_type": "code",
   "execution_count": 13,
   "id": "523ef732-cd9d-40e1-9054-1cb668396b46",
   "metadata": {},
   "outputs": [
    {
     "name": "stdout",
     "output_type": "stream",
     "text": [
      "1\n"
     ]
    }
   ],
   "source": [
    "print(a.ndim)"
   ]
  },
  {
   "cell_type": "code",
   "execution_count": 14,
   "id": "3903c86e-e09d-4053-8b2d-ffbdcbe5738e",
   "metadata": {},
   "outputs": [
    {
     "name": "stdout",
     "output_type": "stream",
     "text": [
      "(2, 2)\n"
     ]
    }
   ],
   "source": [
    "print(b.shape)"
   ]
  },
  {
   "cell_type": "code",
   "execution_count": 15,
   "id": "7849dcf8-1653-42ad-a83f-2bc4b5e6929b",
   "metadata": {},
   "outputs": [
    {
     "name": "stdout",
     "output_type": "stream",
     "text": [
      "2\n"
     ]
    }
   ],
   "source": [
    "print(b.ndim)"
   ]
  },
  {
   "cell_type": "code",
   "execution_count": 16,
   "id": "d5f752bd-06b0-41b3-be12-72fadc80751f",
   "metadata": {},
   "outputs": [
    {
     "name": "stdout",
     "output_type": "stream",
     "text": [
      "[[3 4 5]\n",
      " [5 6 7]\n",
      " [7 8 9]]\n"
     ]
    }
   ],
   "source": [
    "print(c)"
   ]
  },
  {
   "cell_type": "code",
   "execution_count": 17,
   "id": "21f04351-525a-4c39-bf2d-1f8ebec57ede",
   "metadata": {},
   "outputs": [
    {
     "name": "stdout",
     "output_type": "stream",
     "text": [
      "(3, 3)\n"
     ]
    }
   ],
   "source": [
    "print(c.shape)"
   ]
  },
  {
   "cell_type": "code",
   "execution_count": 18,
   "id": "86cb9f98-bdf0-4053-a9ca-4c6c3af606e0",
   "metadata": {},
   "outputs": [
    {
     "name": "stdout",
     "output_type": "stream",
     "text": [
      "2\n"
     ]
    }
   ],
   "source": [
    "print(c.ndim)"
   ]
  },
  {
   "cell_type": "markdown",
   "id": "5ac804c0-ebf4-4cf3-934c-06276fac6117",
   "metadata": {},
   "source": [
    "# array type"
   ]
  },
  {
   "cell_type": "code",
   "execution_count": 19,
   "id": "2d96ee3e-ab0d-40cb-8801-1914012ec667",
   "metadata": {},
   "outputs": [
    {
     "name": "stdout",
     "output_type": "stream",
     "text": [
      "<class 'numpy.ndarray'>\n"
     ]
    }
   ],
   "source": [
    "print(type(a))"
   ]
  },
  {
   "cell_type": "raw",
   "id": "a5f968e4-0582-423f-b4e5-b217a172ef40",
   "metadata": {},
   "source": [
    "# Task 1: Create a 1D, 2D, and 3D array\n",
    "# Task 2: Print their shapes, dimensions, and data types\n",
    "# Task 3: Convert a list of lists into a NumPy array"
   ]
  },
  {
   "cell_type": "code",
   "execution_count": 20,
   "id": "d4929e31-6b2a-47b0-ab23-e2034d358a16",
   "metadata": {},
   "outputs": [],
   "source": [
    "my_list = ([1,2],[3,4])"
   ]
  },
  {
   "cell_type": "code",
   "execution_count": 21,
   "id": "3dae43b1-f0b0-4c5c-bf13-4bb018113a6f",
   "metadata": {},
   "outputs": [],
   "source": [
    "my_array = np.array(my_list)"
   ]
  },
  {
   "cell_type": "code",
   "execution_count": 22,
   "id": "4cc062e5-a2b8-48cf-8bdf-4b59368cb39d",
   "metadata": {},
   "outputs": [
    {
     "name": "stdout",
     "output_type": "stream",
     "text": [
      "[[1 2]\n",
      " [3 4]]\n"
     ]
    }
   ],
   "source": [
    "print(my_array)"
   ]
  },
  {
   "cell_type": "code",
   "execution_count": 23,
   "id": "70b64211-bcb3-4ebe-9d4c-c37a3d7d3029",
   "metadata": {},
   "outputs": [
    {
     "name": "stdout",
     "output_type": "stream",
     "text": [
      "(2, 2)\n"
     ]
    }
   ],
   "source": [
    "print(my_array.shape)"
   ]
  },
  {
   "cell_type": "code",
   "execution_count": 24,
   "id": "74426366-8f87-4510-bf95-a909f1ea8be6",
   "metadata": {},
   "outputs": [
    {
     "name": "stdout",
     "output_type": "stream",
     "text": [
      "2\n"
     ]
    }
   ],
   "source": [
    "print(my_array.ndim)"
   ]
  },
  {
   "cell_type": "code",
   "execution_count": 25,
   "id": "70f3214b-d69c-4d1c-af07-becdcce34751",
   "metadata": {},
   "outputs": [
    {
     "name": "stdout",
     "output_type": "stream",
     "text": [
      "<class 'numpy.ndarray'>\n"
     ]
    }
   ],
   "source": [
    "print(type(my_array))"
   ]
  },
  {
   "cell_type": "markdown",
   "id": "fe514e0a-39cc-4fb9-8cc9-43757b85ec96",
   "metadata": {},
   "source": [
    "# Day 2: Indexing and Slicing Array"
   ]
  },
  {
   "cell_type": "markdown",
   "id": "93d75313-d1ce-4de1-ada1-90282955ed61",
   "metadata": {},
   "source": [
    "# indexing in 1D array  "
   ]
  },
  {
   "cell_type": "code",
   "execution_count": 26,
   "id": "3e00b3f3-d52e-4b65-95d4-1d760b4ee8cd",
   "metadata": {},
   "outputs": [],
   "source": [
    "a = np.array([1,2,3,4,5])"
   ]
  },
  {
   "cell_type": "code",
   "execution_count": 27,
   "id": "805c88ff-134e-4626-b517-1f63f7e2e3dc",
   "metadata": {},
   "outputs": [
    {
     "name": "stdout",
     "output_type": "stream",
     "text": [
      "1\n"
     ]
    }
   ],
   "source": [
    "print(a[0])"
   ]
  },
  {
   "cell_type": "code",
   "execution_count": 28,
   "id": "d19f2e9b-88bb-454b-b4c4-d0219b41cf0b",
   "metadata": {},
   "outputs": [
    {
     "name": "stdout",
     "output_type": "stream",
     "text": [
      "4\n"
     ]
    }
   ],
   "source": [
    "print(a[3])"
   ]
  },
  {
   "cell_type": "code",
   "execution_count": 29,
   "id": "2c5ed995-731f-4467-b1cd-d866b3cfa47e",
   "metadata": {},
   "outputs": [
    {
     "name": "stdout",
     "output_type": "stream",
     "text": [
      "5\n"
     ]
    }
   ],
   "source": [
    "print(a[-1])"
   ]
  },
  {
   "cell_type": "markdown",
   "id": "f5d3261d-d302-469d-b575-2afc41658bfc",
   "metadata": {},
   "source": [
    "# indexing in 2D array"
   ]
  },
  {
   "cell_type": "code",
   "execution_count": 30,
   "id": "fbb5bb6b-8378-48c5-aad8-40c26bc8b6bf",
   "metadata": {},
   "outputs": [],
   "source": [
    "b = np.array([[10,20,30],[40,50,60]])"
   ]
  },
  {
   "cell_type": "code",
   "execution_count": 31,
   "id": "d0a5a144-1103-4817-ba74-66c1a2232813",
   "metadata": {},
   "outputs": [
    {
     "name": "stdout",
     "output_type": "stream",
     "text": [
      "10\n"
     ]
    }
   ],
   "source": [
    "print(b[0,0])"
   ]
  },
  {
   "cell_type": "code",
   "execution_count": 32,
   "id": "c816832d-ed47-4abc-8614-07803049c2cf",
   "metadata": {},
   "outputs": [
    {
     "name": "stdout",
     "output_type": "stream",
     "text": [
      "20\n"
     ]
    }
   ],
   "source": [
    "print(b[0,1])"
   ]
  },
  {
   "cell_type": "code",
   "execution_count": 33,
   "id": "454421e1-6660-4f5c-82fa-5ed841a649da",
   "metadata": {},
   "outputs": [
    {
     "name": "stdout",
     "output_type": "stream",
     "text": [
      "60\n"
     ]
    }
   ],
   "source": [
    "print(b[1,2])"
   ]
  },
  {
   "cell_type": "markdown",
   "id": "3f3e7de0-acf8-4833-ae6a-789f9ffb217b",
   "metadata": {},
   "source": [
    "# creating 3D array"
   ]
  },
  {
   "cell_type": "code",
   "execution_count": 34,
   "id": "4c5e98a1-c717-4ce1-9930-dd2ae24a1ca9",
   "metadata": {},
   "outputs": [],
   "source": [
    "c = np.array([[[1,2],[3,4]],\n",
    "              [[5,6],[7,8]]])"
   ]
  },
  {
   "cell_type": "code",
   "execution_count": 35,
   "id": "e8088e5f-3f72-4db2-82fe-c4ce0c495fc6",
   "metadata": {},
   "outputs": [
    {
     "name": "stdout",
     "output_type": "stream",
     "text": [
      "[[[1 2]\n",
      "  [3 4]]\n",
      "\n",
      " [[5 6]\n",
      "  [7 8]]]\n"
     ]
    }
   ],
   "source": [
    "print(c)"
   ]
  },
  {
   "cell_type": "code",
   "execution_count": 36,
   "id": "5137cbcc-3846-4a0e-b770-cefc23f4f260",
   "metadata": {},
   "outputs": [
    {
     "name": "stdout",
     "output_type": "stream",
     "text": [
      "4\n"
     ]
    }
   ],
   "source": [
    "print(c[0,1,1])"
   ]
  },
  {
   "cell_type": "code",
   "execution_count": 37,
   "id": "e4294210-7cdf-441f-8b84-478f0decd4f6",
   "metadata": {},
   "outputs": [
    {
     "name": "stdout",
     "output_type": "stream",
     "text": [
      "7\n"
     ]
    }
   ],
   "source": [
    "print(c[1,1,0])"
   ]
  },
  {
   "cell_type": "code",
   "execution_count": 38,
   "id": "941236da-d7a7-4d8e-8441-5a24860bb2f5",
   "metadata": {},
   "outputs": [
    {
     "name": "stdout",
     "output_type": "stream",
     "text": [
      "5\n"
     ]
    }
   ],
   "source": [
    "print(c[1,0,0])"
   ]
  },
  {
   "cell_type": "markdown",
   "id": "43fe8f26-029d-4901-9d66-835a7038e8ae",
   "metadata": {},
   "source": [
    "# slicing in 1D array"
   ]
  },
  {
   "cell_type": "code",
   "execution_count": 39,
   "id": "d7cae966-a25d-4375-a6c6-3acd27ffbc57",
   "metadata": {},
   "outputs": [],
   "source": [
    "a = np.array([10,20,30,40,50])"
   ]
  },
  {
   "cell_type": "code",
   "execution_count": 40,
   "id": "a755515b-02c5-4e2d-b56f-e15a86d2c611",
   "metadata": {},
   "outputs": [
    {
     "name": "stdout",
     "output_type": "stream",
     "text": [
      "[20 30 40]\n"
     ]
    }
   ],
   "source": [
    "print(a[1:4])"
   ]
  },
  {
   "cell_type": "code",
   "execution_count": 41,
   "id": "8f7d408b-cff7-46cd-a0c7-863bb1d94b78",
   "metadata": {},
   "outputs": [
    {
     "name": "stdout",
     "output_type": "stream",
     "text": [
      "[10 20 30]\n"
     ]
    }
   ],
   "source": [
    "print(a[:3])"
   ]
  },
  {
   "cell_type": "code",
   "execution_count": 42,
   "id": "e7414eae-8e0e-4f7c-ae2e-199125be6fa0",
   "metadata": {},
   "outputs": [
    {
     "name": "stdout",
     "output_type": "stream",
     "text": [
      "[10 30 50]\n"
     ]
    }
   ],
   "source": [
    "print(a[::2]) #every second element"
   ]
  },
  {
   "cell_type": "markdown",
   "id": "bb0692bc-8a74-4c34-b028-c37e486e7916",
   "metadata": {},
   "source": [
    "# slicing in 2D array"
   ]
  },
  {
   "cell_type": "code",
   "execution_count": 79,
   "id": "f52fa6b8-46f1-49ec-a93c-771cd92c62ed",
   "metadata": {},
   "outputs": [],
   "source": [
    "b = np.array([[1,2,3],\n",
    "              [4,5,6],\n",
    "              [7,8,9]])"
   ]
  },
  {
   "cell_type": "code",
   "execution_count": 86,
   "id": "d4fe3916-e699-41dd-8e88-c1018e8ec6a1",
   "metadata": {},
   "outputs": [
    {
     "name": "stdout",
     "output_type": "stream",
     "text": [
      "[[2]\n",
      " [5]]\n"
     ]
    }
   ],
   "source": [
    "print(b[0:2,1:2])"
   ]
  },
  {
   "cell_type": "code",
   "execution_count": 45,
   "id": "7c6e502e-b4be-40a3-a7ce-1cbdff3115af",
   "metadata": {},
   "outputs": [
    {
     "name": "stdout",
     "output_type": "stream",
     "text": [
      "[[2 3]\n",
      " [5 6]]\n"
     ]
    }
   ],
   "source": [
    "print(b[0:2,1:]) # Rows 0–1, Columns 1–2"
   ]
  },
  {
   "cell_type": "markdown",
   "id": "d70461ac-7cd9-4b08-92c2-ce87a5379ff0",
   "metadata": {},
   "source": [
    "# 📘 NumPy Day 3: Array Operations & Broadcasting"
   ]
  },
  {
   "cell_type": "code",
   "execution_count": 44,
   "id": "aedae3e2-ca83-41f9-af1e-42882fab882b",
   "metadata": {},
   "outputs": [],
   "source": [
    "# NumPy is powerful because it allows fast, element-wise operations and broadcasting without writing loops."
   ]
  },
  {
   "cell_type": "markdown",
   "id": "693cf3f6-a485-4995-96cb-5dc6a33c5d9a",
   "metadata": {},
   "source": [
    "# 1. Basic Arithmetic Operations"
   ]
  },
  {
   "cell_type": "markdown",
   "id": "8edd2ebd-453f-4e7a-89d9-268172b8021d",
   "metadata": {},
   "source": [
    " NumPy automatically applies operations element-wise:"
   ]
  },
  {
   "cell_type": "code",
   "execution_count": 46,
   "id": "7be59fc8-f9f7-4483-a2a3-e0cdce9f2b50",
   "metadata": {},
   "outputs": [],
   "source": [
    "a= np.array([1,2,3])\n",
    "b= np.array([4,5,6])"
   ]
  },
  {
   "cell_type": "code",
   "execution_count": 47,
   "id": "0a2250f8-eca4-475f-aace-71754d3008de",
   "metadata": {},
   "outputs": [
    {
     "name": "stdout",
     "output_type": "stream",
     "text": [
      "[5 7 9]\n"
     ]
    }
   ],
   "source": [
    "print(a+b)"
   ]
  },
  {
   "cell_type": "code",
   "execution_count": 48,
   "id": "06667bb4-c243-42b0-8d15-8d22365612a8",
   "metadata": {},
   "outputs": [
    {
     "name": "stdout",
     "output_type": "stream",
     "text": [
      "[-3 -3 -3]\n"
     ]
    }
   ],
   "source": [
    "print(a-b)"
   ]
  },
  {
   "cell_type": "code",
   "execution_count": 49,
   "id": "e376e0d2-c7b8-40b7-b65b-a7b775e60e4e",
   "metadata": {},
   "outputs": [
    {
     "name": "stdout",
     "output_type": "stream",
     "text": [
      "[ 4 10 18]\n"
     ]
    }
   ],
   "source": [
    "print(a*b)"
   ]
  },
  {
   "cell_type": "code",
   "execution_count": 50,
   "id": "7f41d5a7-a918-4d7f-9c5e-8e44fe50ac41",
   "metadata": {},
   "outputs": [
    {
     "name": "stdout",
     "output_type": "stream",
     "text": [
      "[0.25 0.4  0.5 ]\n"
     ]
    }
   ],
   "source": [
    "print(a/b)"
   ]
  },
  {
   "cell_type": "markdown",
   "id": "d8e73ef1-2675-4503-98b0-0bf8ee670d37",
   "metadata": {},
   "source": [
    "# 2. Array with scalars"
   ]
  },
  {
   "cell_type": "markdown",
   "id": "30f7900c-eabc-45fb-9324-fd6b75ded5ef",
   "metadata": {},
   "source": [
    " You can perform operations between arrays and single numbers:"
   ]
  },
  {
   "cell_type": "code",
   "execution_count": 51,
   "id": "17c75fcd-bd10-4fed-9982-dde7fda20669",
   "metadata": {},
   "outputs": [
    {
     "name": "stdout",
     "output_type": "stream",
     "text": [
      "[6 7 8]\n"
     ]
    }
   ],
   "source": [
    "print(a+5)"
   ]
  },
  {
   "cell_type": "code",
   "execution_count": 52,
   "id": "6f8edf36-7775-4853-af70-cdd75fc37dfb",
   "metadata": {},
   "outputs": [
    {
     "name": "stdout",
     "output_type": "stream",
     "text": [
      "[ 5 10 15]\n"
     ]
    }
   ],
   "source": [
    "print(a*5)"
   ]
  },
  {
   "cell_type": "markdown",
   "id": "7d8836db-1ada-40ff-b540-97b39054ef76",
   "metadata": {},
   "source": [
    "# 3. Broadcasting"
   ]
  },
  {
   "cell_type": "markdown",
   "id": "72db8922-7a2f-48f9-9074-78657d1d79a1",
   "metadata": {},
   "source": [
    " Broadcasting is NumPy’s way of handling different shapes in operations."
   ]
  },
  {
   "cell_type": "code",
   "execution_count": 54,
   "id": "6941e1b7-9ef9-4b6b-a51e-129d33b9b85d",
   "metadata": {},
   "outputs": [],
   "source": [
    "A = np.array([[1,2,3],\n",
    "             [4,5,6]])\n",
    "B = np.array([10,20,30])"
   ]
  },
  {
   "cell_type": "code",
   "execution_count": 55,
   "id": "adbd96d1-f6e4-4a23-8f71-bcfc625a3149",
   "metadata": {},
   "outputs": [
    {
     "name": "stdout",
     "output_type": "stream",
     "text": [
      "[[11 22 33]\n",
      " [14 25 36]]\n"
     ]
    }
   ],
   "source": [
    "print(A+B)"
   ]
  },
  {
   "cell_type": "code",
   "execution_count": null,
   "id": "4604a2d1-cdba-40b8-9ae4-edf01a1441e2",
   "metadata": {},
   "outputs": [],
   "source": [
    "# Here, B is automatically stretched to match A’s shape.\n"
   ]
  },
  {
   "cell_type": "markdown",
   "id": "32f4857f-ce11-46b0-b5c6-fe916d9a6f59",
   "metadata": {},
   "source": [
    "# 4. Mathematical Function"
   ]
  },
  {
   "cell_type": "markdown",
   "id": "7cbec00c-fefc-4051-91ba-a9bce42c4428",
   "metadata": {},
   "source": [
    " NumPy has many built-in functions:"
   ]
  },
  {
   "cell_type": "code",
   "execution_count": 56,
   "id": "f2b97001-2d50-4f8b-b2f5-8df9dc075835",
   "metadata": {},
   "outputs": [],
   "source": [
    "arr = np.array([1,4,9,16])"
   ]
  },
  {
   "cell_type": "code",
   "execution_count": 57,
   "id": "fdf0d61c-dbc1-48d8-abf3-cfdbd8f986f6",
   "metadata": {},
   "outputs": [
    {
     "name": "stdout",
     "output_type": "stream",
     "text": [
      "[1. 2. 3. 4.]\n",
      "[2.71828183e+00 5.45981500e+01 8.10308393e+03 8.88611052e+06]\n",
      "[0.         1.38629436 2.19722458 2.77258872]\n",
      "30\n",
      "7.5\n"
     ]
    }
   ],
   "source": [
    "print(np.sqrt(arr))\n",
    "print(np.exp(arr))\n",
    "print(np.log(arr))\n",
    "print(np.sum(arr))\n",
    "print(np.mean(arr))"
   ]
  },
  {
   "cell_type": "markdown",
   "id": "cf0b7fea-fb28-48f7-a957-6f4781e04343",
   "metadata": {},
   "source": [
    "# 5. Comparison Operators"
   ]
  },
  {
   "cell_type": "code",
   "execution_count": 58,
   "id": "ebca5b8e-6861-46a5-8e30-928d933d6822",
   "metadata": {},
   "outputs": [],
   "source": [
    "a = np.array([1,2,3])\n",
    "b = np.array([2,2,2])"
   ]
  },
  {
   "cell_type": "code",
   "execution_count": 59,
   "id": "b2412c27-9c41-41c1-b2f7-ba80f866d2ec",
   "metadata": {},
   "outputs": [
    {
     "name": "stdout",
     "output_type": "stream",
     "text": [
      "[False False  True]\n",
      "[ True False False]\n",
      "[False  True False]\n"
     ]
    }
   ],
   "source": [
    "print(a>b)\n",
    "print(a<b)\n",
    "print(a==b)"
   ]
  },
  {
   "cell_type": "markdown",
   "id": "f2f15d31-a422-4038-8d1a-b8e9bb12aa52",
   "metadata": {},
   "source": [
    "# 📘 NumPy Day 4: Reshaping, Flattening, Stacking & Splitting\n"
   ]
  },
  {
   "cell_type": "markdown",
   "id": "341db08d-7dcb-427f-a4a9-f20e2d67fb1e",
   "metadata": {},
   "source": [
    "# 🔷 1. Reshaping Arrays\n",
    "\n"
   ]
  },
  {
   "cell_type": "markdown",
   "id": "0250cd11-5deb-4d88-97b5-be53e7c928b0",
   "metadata": {},
   "source": [
    "Reshaping changes the arrangement of data without changing the data itself."
   ]
  },
  {
   "cell_type": "code",
   "execution_count": 6,
   "id": "669a5c20-5ae2-463b-b0fe-8e23d73319e3",
   "metadata": {},
   "outputs": [],
   "source": [
    "np = np.array([1,2,3,4,5,6])"
   ]
  },
  {
   "cell_type": "code",
   "execution_count": 7,
   "id": "585f1e69-62bf-427b-8470-3ac598949d1d",
   "metadata": {},
   "outputs": [],
   "source": [
    "reshaped = np.reshape([2,3])"
   ]
  },
  {
   "cell_type": "code",
   "execution_count": 8,
   "id": "0b7a5ba6-ed82-4a74-b761-0a414620ab99",
   "metadata": {},
   "outputs": [
    {
     "name": "stdout",
     "output_type": "stream",
     "text": [
      "[[1 2 3]\n",
      " [4 5 6]]\n"
     ]
    }
   ],
   "source": [
    "print(reshaped)"
   ]
  },
  {
   "cell_type": "code",
   "execution_count": null,
   "id": "9602d92e-90ec-4d64-80e7-ff2d46ca3b46",
   "metadata": {},
   "outputs": [],
   "source": [
    "# (2, 3) means 2 rows and 3 columns\n",
    "# The total number of elements must remain the same"
   ]
  },
  {
   "cell_type": "markdown",
   "id": "e39b9363-2ce2-497d-8e9a-625268618d8c",
   "metadata": {},
   "source": [
    "# 🔷 2. Flattening Arrays\n"
   ]
  },
  {
   "cell_type": "markdown",
   "id": "0464bb2c-567b-4ada-9f27-af888f05eafd",
   "metadata": {},
   "source": [
    "Flattening converts any array into a 1D array."
   ]
  },
  {
   "cell_type": "code",
   "execution_count": 64,
   "id": "11604d4f-808f-42ee-9558-0b51eb97942b",
   "metadata": {},
   "outputs": [
    {
     "name": "stdout",
     "output_type": "stream",
     "text": [
      "[1 2 3 4 5 6]\n"
     ]
    }
   ],
   "source": [
    "flat = reshaped.flatten()\n",
    "print(flat)"
   ]
  },
  {
   "cell_type": "markdown",
   "id": "19518843-334b-4e09-93aa-e9f552bb21c7",
   "metadata": {},
   "source": [
    "# 🔷 3. Stacking Arrays"
   ]
  },
  {
   "cell_type": "markdown",
   "id": "fc47ce80-e22c-4784-a8c8-ad9bdcd82f2d",
   "metadata": {},
   "source": [
    "Vertical Stack (rows on top of each other):"
   ]
  },
  {
   "cell_type": "code",
   "execution_count": 70,
   "id": "d1d231a2-19f0-43b6-a583-35e929cbcc80",
   "metadata": {},
   "outputs": [],
   "source": [
    "a = np.array([[1,2],[3,4]])\n",
    "b = np.array([5,6])"
   ]
  },
  {
   "cell_type": "code",
   "execution_count": 71,
   "id": "e585b2fb-6a46-471c-bc9c-be1f904471c8",
   "metadata": {},
   "outputs": [
    {
     "name": "stdout",
     "output_type": "stream",
     "text": [
      "[[1 2]\n",
      " [3 4]\n",
      " [5 6]]\n"
     ]
    }
   ],
   "source": [
    "vstacked = np.vstack((a,b))\n",
    "print(vstacked)"
   ]
  },
  {
   "cell_type": "markdown",
   "id": "4fab528d-d863-44d4-9ded-60c51fb7ebf3",
   "metadata": {},
   "source": [
    "Horizontal Stack (columns side by side):"
   ]
  },
  {
   "cell_type": "code",
   "execution_count": 94,
   "id": "5c6f0861-5174-41e4-83cd-a65a57f01d0a",
   "metadata": {},
   "outputs": [
    {
     "name": "stdout",
     "output_type": "stream",
     "text": [
      "[[1 2 5]\n",
      " [3 4 6]]\n"
     ]
    }
   ],
   "source": [
    "hstacked = np.hstack((a,b.T))\n",
    "print(hstacked)"
   ]
  },
  {
   "cell_type": "code",
   "execution_count": 93,
   "id": "302b85e4-3b82-4329-b858-46e7b1be7335",
   "metadata": {},
   "outputs": [
    {
     "name": "stdout",
     "output_type": "stream",
     "text": [
      "[[1 2 5]\n",
      " [3 4 6]]\n"
     ]
    }
   ],
   "source": [
    "import numpy as np\n",
    "\n",
    "a = np.array([[1, 2], [3, 4]])\n",
    "b = np.array([[5, 6]])   # Now b is 2D (1 row, 2 columns)\n",
    "\n",
    "hstacked = np.hstack((a, b.T))\n",
    "print(hstacked)\n",
    "# [[1 2 5]\n",
    "#  [3 4 6]]\n"
   ]
  },
  {
   "cell_type": "markdown",
   "id": "e7e95abf-800b-44ec-9228-292894be9eac",
   "metadata": {},
   "source": [
    "# 🔷 4. Splitting Arrays"
   ]
  },
  {
   "cell_type": "markdown",
   "id": "8fb57a1b-e7a3-4e1c-acc0-f0d51fdfccec",
   "metadata": {},
   "source": [
    "Split into equal parts:"
   ]
  },
  {
   "cell_type": "code",
   "execution_count": 75,
   "id": "d0d321a4-13bb-431f-901d-85eff02721ad",
   "metadata": {},
   "outputs": [
    {
     "name": "stdout",
     "output_type": "stream",
     "text": [
      "[array([1, 2]), array([3, 4]), array([5, 6])]\n"
     ]
    }
   ],
   "source": [
    "arr = np.array([1,2,3,4,5,6])\n",
    "parts = np.split(arr,3)\n",
    "print(parts)"
   ]
  },
  {
   "cell_type": "markdown",
   "id": "4ae76b04-ee4d-4e42-9f24-1afb536f3975",
   "metadata": {},
   "source": [
    "Split by axis:"
   ]
  },
  {
   "cell_type": "code",
   "execution_count": 99,
   "id": "1c686229-657c-4a34-b640-c79735d9d988",
   "metadata": {},
   "outputs": [
    {
     "name": "stdout",
     "output_type": "stream",
     "text": [
      "[array([[1],\n",
      "       [4]]), array([[2],\n",
      "       [5]]), array([[3],\n",
      "       [6]])]\n"
     ]
    }
   ],
   "source": [
    "matrix = np.array([[1,2,3],[4,5,6]])\n",
    "split = np.hsplit(matrix,3)\n",
    "print(split)"
   ]
  },
  {
   "cell_type": "markdown",
   "id": "07e2a5a0-0240-48dd-b87a-1b7f9b5b09b6",
   "metadata": {},
   "source": [
    "task 1"
   ]
  },
  {
   "cell_type": "code",
   "execution_count": 3,
   "id": "4a8a0efc-5972-4204-b0e1-a6e6e7c6a125",
   "metadata": {},
   "outputs": [],
   "source": [
    "arr = np.array([1,2,3,4,5,6,7,8,9,10,11,12])"
   ]
  },
  {
   "cell_type": "code",
   "execution_count": 11,
   "id": "51c5182f-6973-4086-b375-11cae9086fa9",
   "metadata": {},
   "outputs": [],
   "source": [
    "reshaped = arr.reshape([3,4]) #reshaping"
   ]
  },
  {
   "cell_type": "code",
   "execution_count": 10,
   "id": "32a5e723-7cd0-40f8-b48a-d5400d8adbcc",
   "metadata": {},
   "outputs": [
    {
     "name": "stdout",
     "output_type": "stream",
     "text": [
      "[[ 1  2  3  4]\n",
      " [ 5  6  7  8]\n",
      " [ 9 10 11 12]]\n"
     ]
    }
   ],
   "source": [
    "print(reshaped)"
   ]
  },
  {
   "cell_type": "code",
   "execution_count": 16,
   "id": "b7ef35ab-32e3-4243-8908-b13ecc506ac7",
   "metadata": {},
   "outputs": [],
   "source": [
    "flat = reshaped.flatten() #flattened"
   ]
  },
  {
   "cell_type": "code",
   "execution_count": 15,
   "id": "efaaa341-25bb-48ad-abf0-e1dce4ef97ea",
   "metadata": {},
   "outputs": [
    {
     "name": "stdout",
     "output_type": "stream",
     "text": [
      "[ 1  2  3  4  5  6  7  8  9 10 11 12]\n"
     ]
    }
   ],
   "source": [
    "print(flat)"
   ]
  },
  {
   "cell_type": "markdown",
   "id": "316bf5e4-447b-46a4-b5a0-f1088087416f",
   "metadata": {},
   "source": [
    "task2"
   ]
  },
  {
   "cell_type": "code",
   "execution_count": 19,
   "id": "724539c8-2951-4e30-89fe-264b65c1146f",
   "metadata": {},
   "outputs": [],
   "source": [
    "arr1 = np.array([1,2])\n",
    "arr2 = np.array([3,4])"
   ]
  },
  {
   "cell_type": "code",
   "execution_count": 26,
   "id": "c246ae57-2d40-4b9b-a377-85fe2d579220",
   "metadata": {},
   "outputs": [
    {
     "name": "stdout",
     "output_type": "stream",
     "text": [
      "[[1 2]\n",
      " [3 4]]\n"
     ]
    }
   ],
   "source": [
    "vstacked = np.vstack((arr1,arr2))  #vertical stack\n",
    "print(vstacked)"
   ]
  },
  {
   "cell_type": "code",
   "execution_count": 27,
   "id": "d0442aaf-5eb5-4cba-af37-436e9d0cb208",
   "metadata": {},
   "outputs": [
    {
     "name": "stdout",
     "output_type": "stream",
     "text": [
      "[1 2 3 4]\n"
     ]
    }
   ],
   "source": [
    "hstacked = np.hstack((arr1,arr2.T))  #horizontal stack\n",
    "print(hstacked)"
   ]
  },
  {
   "cell_type": "code",
   "execution_count": 29,
   "id": "6a189769-c8f5-4e93-9961-739ff5357a67",
   "metadata": {},
   "outputs": [
    {
     "name": "stdout",
     "output_type": "stream",
     "text": [
      "[array([1, 2, 3, 4, 5, 6]), array([ 7,  8,  9, 10, 11, 12])]\n"
     ]
    }
   ],
   "source": [
    "split = np.split(arr,2) #splitting array\n",
    "print(split)"
   ]
  },
  {
   "cell_type": "markdown",
   "id": "fe8ff5b2-c6f6-4be7-9995-6af65d0dd0a9",
   "metadata": {},
   "source": [
    "# 📘 NumPy Day 5: Random Module"
   ]
  },
  {
   "cell_type": "markdown",
   "id": "527fd187-c843-4273-b423-19e9eaa85979",
   "metadata": {},
   "source": [
    "NumPy has a built-in random module (numpy.random) that’s super useful for:\n",
    "\n",
    "Simulations\n",
    "\n",
    "Testing algorithms\n",
    "\n",
    "Generating sample datasets\n",
    "\n",
    "Machine learning (initial weights, shuffling data)"
   ]
  },
  {
   "cell_type": "markdown",
   "id": "5fb5f258-ad6c-4857-98e3-6361f23f62cf",
   "metadata": {},
   "source": [
    "# 1. Random Integers"
   ]
  },
  {
   "cell_type": "code",
   "execution_count": 30,
   "id": "2ec6b7bf-1a50-4cdd-9f93-bed4e9acff53",
   "metadata": {},
   "outputs": [],
   "source": [
    "import numpy as np"
   ]
  },
  {
   "cell_type": "markdown",
   "id": "a9961ff2-17cc-466e-b3f5-6ac6df994372",
   "metadata": {},
   "source": [
    " Single random integer between 0 and 9"
   ]
  },
  {
   "cell_type": "code",
   "execution_count": 31,
   "id": "e187b181-63ed-4ede-9c50-339fc100385e",
   "metadata": {},
   "outputs": [
    {
     "name": "stdout",
     "output_type": "stream",
     "text": [
      "5\n"
     ]
    }
   ],
   "source": [
    "print(np.random.randint(10))"
   ]
  },
  {
   "cell_type": "markdown",
   "id": "b21c0bcb-0b28-44b3-8d83-858d0b81bc88",
   "metadata": {},
   "source": [
    "Array of 5 random integers between 0 and 100"
   ]
  },
  {
   "cell_type": "code",
   "execution_count": 32,
   "id": "f3f7c587-b8bc-46b8-9ff2-d6177496ee5f",
   "metadata": {},
   "outputs": [
    {
     "name": "stdout",
     "output_type": "stream",
     "text": [
      "[59 92  7 87 77]\n"
     ]
    }
   ],
   "source": [
    "print(np.random.randint(1,100,size=5))"
   ]
  },
  {
   "cell_type": "markdown",
   "id": "88e3d4fa-47ff-47d6-ba82-a1284a96bfd1",
   "metadata": {},
   "source": [
    "2D array of random integers"
   ]
  },
  {
   "cell_type": "code",
   "execution_count": 33,
   "id": "50130199-dd34-4ad3-85f1-e6e4b73ae926",
   "metadata": {},
   "outputs": [
    {
     "name": "stdout",
     "output_type": "stream",
     "text": [
      "[[5 5 2]\n",
      " [8 2 7]\n",
      " [8 5 8]]\n"
     ]
    }
   ],
   "source": [
    "print(np.random.randint(1,10,size=(3,3)))"
   ]
  },
  {
   "cell_type": "markdown",
   "id": "b8a78d9f-d523-4fa2-8ced-e49ce606264b",
   "metadata": {},
   "source": [
    "# 2. Random Floats"
   ]
  },
  {
   "cell_type": "markdown",
   "id": "216052e3-d952-4f71-ae63-ec5f5c02b06d",
   "metadata": {},
   "source": [
    "Random floats between 0 and 1"
   ]
  },
  {
   "cell_type": "code",
   "execution_count": 192,
   "id": "31e1a761-dde0-453b-80a7-a561df0d3cf5",
   "metadata": {},
   "outputs": [
    {
     "name": "stdout",
     "output_type": "stream",
     "text": [
      "0.6807054515547668\n"
     ]
    }
   ],
   "source": [
    "print(np.random.rand()) # Single value"
   ]
  },
  {
   "cell_type": "code",
   "execution_count": 193,
   "id": "a6ae200c-8dc9-4aa1-a38d-e0f1a01293cc",
   "metadata": {},
   "outputs": [
    {
     "name": "stdout",
     "output_type": "stream",
     "text": [
      "[[0.53093458 0.44778316 0.55289309]\n",
      " [0.59269672 0.08085333 0.36965446]\n",
      " [0.24215994 0.80313976 0.47030063]]\n"
     ]
    }
   ],
   "source": [
    "print(np.random.rand(3,3)) # 3x3 matrix "
   ]
  },
  {
   "cell_type": "markdown",
   "id": "c7891ee4-07e3-4147-abd5-091002feaf2f",
   "metadata": {},
   "source": [
    "Random floats from normal distribution"
   ]
  },
  {
   "cell_type": "code",
   "execution_count": 194,
   "id": "bff17d30-e091-4fa4-aa1b-a30f09341076",
   "metadata": {},
   "outputs": [
    {
     "name": "stdout",
     "output_type": "stream",
     "text": [
      "[[-1.42647888 -0.04540266  0.21693673]\n",
      " [ 0.51242373  0.54348869  0.02809946]\n",
      " [-1.19708706  0.7896728   0.43148946]]\n"
     ]
    }
   ],
   "source": [
    "print(np.random.randn(3,3)) # mean=0, std=1"
   ]
  },
  {
   "cell_type": "markdown",
   "id": "e32b0b77-1e88-4aee-bce0-efd6bab2ce43",
   "metadata": {},
   "source": [
    "# 3. Random Choice "
   ]
  },
  {
   "cell_type": "markdown",
   "id": "3fc7dc13-721b-43d1-b898-79153b4cfeb7",
   "metadata": {},
   "source": [
    "Pick random values from a list/array:"
   ]
  },
  {
   "cell_type": "code",
   "execution_count": 112,
   "id": "5584cff6-4e4b-43ae-9c79-afbaea35e537",
   "metadata": {},
   "outputs": [],
   "source": [
    "arr = np.array([10,20,30,40,50])"
   ]
  },
  {
   "cell_type": "code",
   "execution_count": 113,
   "id": "23985ba7-9088-402a-8737-1138b52791c2",
   "metadata": {},
   "outputs": [
    {
     "name": "stdout",
     "output_type": "stream",
     "text": [
      "40\n"
     ]
    }
   ],
   "source": [
    "print(np.random.choice(arr)) # Single random element"
   ]
  },
  {
   "cell_type": "code",
   "execution_count": 114,
   "id": "4a10b9b8-c791-491a-8f1b-8cf8b0d398ab",
   "metadata": {},
   "outputs": [
    {
     "name": "stdout",
     "output_type": "stream",
     "text": [
      "[10 50]\n"
     ]
    }
   ],
   "source": [
    "print(np.random.choice(arr,2)) # Random 2 elements"
   ]
  },
  {
   "cell_type": "code",
   "execution_count": 115,
   "id": "a88bde60-be9d-4031-a107-71cb8a5d6670",
   "metadata": {},
   "outputs": [
    {
     "name": "stdout",
     "output_type": "stream",
     "text": [
      "[40 10]\n"
     ]
    }
   ],
   "source": [
    "print(np.random.choice(arr,2,replace=False)) # No Repeats"
   ]
  },
  {
   "cell_type": "markdown",
   "id": "d7745af0-7153-44a2-ac4f-fe8d7f5c0506",
   "metadata": {},
   "source": [
    "# 4. Permutation & Suffling"
   ]
  },
  {
   "cell_type": "markdown",
   "id": "2f226b66-fbd2-46e8-9851-b44ea3526025",
   "metadata": {},
   "source": [
    "Shuffle in place"
   ]
  },
  {
   "cell_type": "code",
   "execution_count": 93,
   "id": "66ba7383-44d9-40d4-a969-2fec76199495",
   "metadata": {},
   "outputs": [
    {
     "name": "stdout",
     "output_type": "stream",
     "text": [
      "[5 1 4 3 2]\n"
     ]
    }
   ],
   "source": [
    "arr = np.array([1,2,3,4,5])\n",
    "np.random.shuffle(arr)\n",
    "print(arr) #shuffled array"
   ]
  },
  {
   "cell_type": "markdown",
   "id": "0f0089f5-9acd-4546-9be3-a596972775f3",
   "metadata": {},
   "source": [
    "Permutation (returns a shuffled copy)"
   ]
  },
  {
   "cell_type": "code",
   "execution_count": 81,
   "id": "503b6383-ed37-4aad-b3b8-9610978ecdaa",
   "metadata": {},
   "outputs": [
    {
     "name": "stdout",
     "output_type": "stream",
     "text": [
      "[4 5 2 1 3]\n"
     ]
    }
   ],
   "source": [
    "print(np.random.permutation(arr))"
   ]
  },
  {
   "cell_type": "markdown",
   "id": "c9c720e2-f624-4fce-9a94-e7f6c147c228",
   "metadata": {},
   "source": [
    "# 5. Setting a Random Seed"
   ]
  },
  {
   "cell_type": "markdown",
   "id": "bffee9d6-b3aa-4548-898d-f4b58db6510f",
   "metadata": {},
   "source": [
    "For reproducibility (getting the same random numbers every time):"
   ]
  },
  {
   "cell_type": "code",
   "execution_count": 92,
   "id": "bbd6358a-d884-46c3-b1ee-0b94cc387cde",
   "metadata": {},
   "outputs": [
    {
     "name": "stdout",
     "output_type": "stream",
     "text": [
      "[6 3 7 4 6]\n"
     ]
    }
   ],
   "source": [
    "np.random.seed(42)\n",
    "print(np.random.randint(0,10,size=5))\n",
    "## Always gives the same output: [6 3 7 4 6]"
   ]
  },
  {
   "cell_type": "markdown",
   "id": "b072d5d9-ae16-4e0e-a933-81e721f7426f",
   "metadata": {},
   "source": [
    "Task 1"
   ]
  },
  {
   "cell_type": "code",
   "execution_count": 188,
   "id": "809434c4-a384-4019-8203-2edd6ec6d7c1",
   "metadata": {},
   "outputs": [
    {
     "name": "stdout",
     "output_type": "stream",
     "text": [
      "[[33 42 44]\n",
      " [24 15 32]\n",
      " [32 24 41]]\n",
      "15\n",
      "44\n"
     ]
    }
   ],
   "source": [
    "# Generate a 3x3 matrix of random integers between 1 and 50 & Find Min and Max values\n",
    "arr = np.random.randint(1,50,size=(3,3))\n",
    "print(arr)\n",
    "print(np.min(arr))\n",
    "print(np.max(arr))\n"
   ]
  },
  {
   "cell_type": "markdown",
   "id": "35278e63-048e-4aac-8b54-90a977e016cd",
   "metadata": {},
   "source": [
    "Task 2"
   ]
  },
  {
   "cell_type": "code",
   "execution_count": 189,
   "id": "dd75b6f9-842f-4ad5-bd35-4dea889b0aea",
   "metadata": {},
   "outputs": [
    {
     "name": "stdout",
     "output_type": "stream",
     "text": [
      "[ 10  20  30  40  50  60  70  80  90 100]\n"
     ]
    }
   ],
   "source": [
    "# Create an array of 10 random numbers between 10 and 100 & Sort them\n",
    "arr = np.array([60,20,80,10,40,30,90,100,50,70])\n",
    "arr.sort()\n",
    "print(arr)"
   ]
  },
  {
   "cell_type": "markdown",
   "id": "6fd21d98-2268-49ec-826b-03fb3d8b51cb",
   "metadata": {},
   "source": [
    "Task 3"
   ]
  },
  {
   "cell_type": "markdown",
   "id": "4e23aa41-c3b0-43a5-9b5e-afa0c0544b89",
   "metadata": {},
   "source": [
    "Take a list [‘apple’, ‘banana’, ‘cherry’, ‘date’]\n",
    "Pick 2 random fruits without replacement"
   ]
  },
  {
   "cell_type": "code",
   "execution_count": 174,
   "id": "eca7c2cc-6a12-4016-93d5-698073ac4ff8",
   "metadata": {},
   "outputs": [],
   "source": [
    "import numpy as np"
   ]
  },
  {
   "cell_type": "code",
   "execution_count": 175,
   "id": "7a069814-b5ba-474b-94f8-b5d84f97b861",
   "metadata": {},
   "outputs": [],
   "source": [
    "fruits = [\"apple\", \"banana\", \"cherry\", \"date\"]"
   ]
  },
  {
   "cell_type": "code",
   "execution_count": 180,
   "id": "b99316c2-c6f6-4383-8508-3b1864b97d7e",
   "metadata": {},
   "outputs": [
    {
     "name": "stdout",
     "output_type": "stream",
     "text": [
      "['banana' 'date']\n"
     ]
    }
   ],
   "source": [
    "select = np.random.choice(fruits,2,replace=False)\n",
    "print(select)"
   ]
  },
  {
   "cell_type": "code",
   "execution_count": null,
   "id": "aec26f76-b4ad-4a80-bb58-800d8b5bbfc4",
   "metadata": {},
   "outputs": [],
   "source": []
  },
  {
   "cell_type": "code",
   "execution_count": null,
   "id": "b30114ce-2f62-4a50-a068-24adecd51270",
   "metadata": {},
   "outputs": [],
   "source": []
  }
 ],
 "metadata": {
  "kernelspec": {
   "display_name": "Python 3 (ipykernel)",
   "language": "python",
   "name": "python3"
  },
  "language_info": {
   "codemirror_mode": {
    "name": "ipython",
    "version": 3
   },
   "file_extension": ".py",
   "mimetype": "text/x-python",
   "name": "python",
   "nbconvert_exporter": "python",
   "pygments_lexer": "ipython3",
   "version": "3.12.4"
  }
 },
 "nbformat": 4,
 "nbformat_minor": 5
}
