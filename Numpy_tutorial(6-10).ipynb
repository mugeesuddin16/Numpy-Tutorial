{
 "cells": [
  {
   "cell_type": "markdown",
   "id": "299a76d9-c802-4ad1-af25-809a3cad1f81",
   "metadata": {},
   "source": [
    "# 📘Chapter 6 – Mathematical & Statistical Functions in NumPy"
   ]
  },
  {
   "cell_type": "markdown",
   "id": "32c60638-8bf5-4825-80bb-65848769534e",
   "metadata": {},
   "source": [
    "# 1. Basic Mathematical Operations"
   ]
  },
  {
   "cell_type": "code",
   "execution_count": 17,
   "id": "a9a27d91-35d0-40c3-93d7-5638390dd6a7",
   "metadata": {},
   "outputs": [],
   "source": [
    "import numpy as np"
   ]
  },
  {
   "cell_type": "code",
   "execution_count": 18,
   "id": "7529e144-d702-4f85-9565-540594083fa8",
   "metadata": {},
   "outputs": [],
   "source": [
    "a = np.array([2,4,6,8])"
   ]
  },
  {
   "cell_type": "code",
   "execution_count": 19,
   "id": "4f7ca821-22bf-4cb9-95fd-0d68494d40dd",
   "metadata": {},
   "outputs": [],
   "source": [
    "b = np.array([1,3,5,7])"
   ]
  },
  {
   "cell_type": "code",
   "execution_count": 20,
   "id": "5f8f1b4e-a6dc-4fa7-9b72-53c456a1ebe3",
   "metadata": {},
   "outputs": [
    {
     "name": "stdout",
     "output_type": "stream",
     "text": [
      "Addition: [ 3  7 11 15]\n"
     ]
    }
   ],
   "source": [
    "print(\"Addition:\", np.add(a, b))"
   ]
  },
  {
   "cell_type": "code",
   "execution_count": 21,
   "id": "ed38483e-b3d5-4cbf-8141-520b4504e952",
   "metadata": {},
   "outputs": [
    {
     "name": "stdout",
     "output_type": "stream",
     "text": [
      "Subtraction: [1 1 1 1]\n"
     ]
    }
   ],
   "source": [
    "print(\"Subtraction:\", np.subtract(a,b))"
   ]
  },
  {
   "cell_type": "code",
   "execution_count": 22,
   "id": "0e850cc3-5ca0-4375-9d77-721f6665d490",
   "metadata": {},
   "outputs": [
    {
     "name": "stdout",
     "output_type": "stream",
     "text": [
      "Multiplication: [ 2 12 30 56]\n"
     ]
    }
   ],
   "source": [
    "print(\"Multiplication:\", np.multiply(a,b))"
   ]
  },
  {
   "cell_type": "code",
   "execution_count": 23,
   "id": "4a74ccae-96f5-41de-8e0a-49cf74a6aba8",
   "metadata": {},
   "outputs": [
    {
     "name": "stdout",
     "output_type": "stream",
     "text": [
      "Division: [2.         1.33333333 1.2        1.14285714]\n"
     ]
    }
   ],
   "source": [
    "print(\"Division:\", np.divide(a,b))"
   ]
  },
  {
   "cell_type": "code",
   "execution_count": 24,
   "id": "ef0c1a81-88fc-4111-a935-63c3554b4ea0",
   "metadata": {},
   "outputs": [
    {
     "name": "stdout",
     "output_type": "stream",
     "text": [
      "Power: [ 4 16 36 64]\n"
     ]
    }
   ],
   "source": [
    "print(\"Power:\", np.power(a,2))"
   ]
  },
  {
   "cell_type": "code",
   "execution_count": 25,
   "id": "0c15fd93-6c44-4176-9800-9dc907b212d1",
   "metadata": {},
   "outputs": [
    {
     "name": "stdout",
     "output_type": "stream",
     "text": [
      "Power: [ 1  9 25 49]\n"
     ]
    }
   ],
   "source": [
    "print(\"Power:\", np.power(b,2))"
   ]
  },
  {
   "cell_type": "code",
   "execution_count": 26,
   "id": "97eae38b-6770-4d6c-8a9b-eb73a510e2cf",
   "metadata": {},
   "outputs": [
    {
     "name": "stdout",
     "output_type": "stream",
     "text": [
      "Square Root: [1.41421356 2.         2.44948974 2.82842712]\n"
     ]
    }
   ],
   "source": [
    "print(\"Square Root:\", np.sqrt(a))"
   ]
  },
  {
   "cell_type": "markdown",
   "id": "705cc1b0-c8b3-4677-ae37-f731b6171c70",
   "metadata": {},
   "source": [
    "# 2. Exponential & Logarithmic Functions"
   ]
  },
  {
   "cell_type": "code",
   "execution_count": 27,
   "id": "26cd05c7-811d-4679-bc20-f9489412cac9",
   "metadata": {},
   "outputs": [],
   "source": [
    "x = np.array([1,2,3,4])"
   ]
  },
  {
   "cell_type": "code",
   "execution_count": 28,
   "id": "991ba8cc-ca22-4baf-b919-519b25ea4b14",
   "metadata": {},
   "outputs": [
    {
     "name": "stdout",
     "output_type": "stream",
     "text": [
      "Exponentials: [ 2.71828183  7.3890561  20.08553692 54.59815003]\n"
     ]
    }
   ],
   "source": [
    "print(\"Exponentials:\", np.exp(x))"
   ]
  },
  {
   "cell_type": "code",
   "execution_count": 29,
   "id": "ac7d93e8-f2c1-4dd6-b11c-0e59d1e87b73",
   "metadata": {},
   "outputs": [
    {
     "name": "stdout",
     "output_type": "stream",
     "text": [
      "Logarithm: [0.         0.69314718 1.09861229 1.38629436]\n"
     ]
    }
   ],
   "source": [
    "print(\"Logarithm:\", np.log(x))"
   ]
  },
  {
   "cell_type": "markdown",
   "id": "70eb9acb-43b8-4290-a8f8-b310584c7b24",
   "metadata": {},
   "source": [
    "# 3. Trigonometric Functions"
   ]
  },
  {
   "cell_type": "code",
   "execution_count": 30,
   "id": "eb5d073d-e01b-41ce-aa3d-6e9bd7d137c8",
   "metadata": {},
   "outputs": [],
   "source": [
    "angles = np.array([0, np.pi/2, np.pi])"
   ]
  },
  {
   "cell_type": "code",
   "execution_count": 31,
   "id": "e12e3f52-f286-4b7e-8818-39a64f1b15ba",
   "metadata": {},
   "outputs": [
    {
     "name": "stdout",
     "output_type": "stream",
     "text": [
      "Sine: [0.0000000e+00 1.0000000e+00 1.2246468e-16]\n"
     ]
    }
   ],
   "source": [
    "print(\"Sine:\", np.sin(angles))"
   ]
  },
  {
   "cell_type": "code",
   "execution_count": 32,
   "id": "f5a20637-23b0-4ccb-b71a-74e4e408bfbb",
   "metadata": {},
   "outputs": [
    {
     "name": "stdout",
     "output_type": "stream",
     "text": [
      "Cosine: [ 1.000000e+00  6.123234e-17 -1.000000e+00]\n"
     ]
    }
   ],
   "source": [
    "print(\"Cosine:\", np.cos(angles))"
   ]
  },
  {
   "cell_type": "code",
   "execution_count": 33,
   "id": "e735da61-4562-4d88-a742-aeb292104092",
   "metadata": {},
   "outputs": [
    {
     "name": "stdout",
     "output_type": "stream",
     "text": [
      "Tangent: [ 0.00000000e+00  1.63312394e+16 -1.22464680e-16]\n"
     ]
    }
   ],
   "source": [
    "print(\"Tangent:\",np.tan(angles))"
   ]
  },
  {
   "cell_type": "markdown",
   "id": "8870404d-cc0f-4262-aff8-98ce7dcb32e2",
   "metadata": {},
   "source": [
    "# 4. Aggregate Functions"
   ]
  },
  {
   "cell_type": "code",
   "execution_count": 34,
   "id": "625f97a0-c10a-4d04-ba90-ce8bee53ccdb",
   "metadata": {},
   "outputs": [],
   "source": [
    "arr = np.array([10,20,30,40,50])"
   ]
  },
  {
   "cell_type": "code",
   "execution_count": 35,
   "id": "8055ee60-f34f-4179-8c2a-21fb5433a6ce",
   "metadata": {},
   "outputs": [
    {
     "name": "stdout",
     "output_type": "stream",
     "text": [
      "Sum: 150\n"
     ]
    }
   ],
   "source": [
    "print(\"Sum:\", np.sum(arr))"
   ]
  },
  {
   "cell_type": "code",
   "execution_count": 36,
   "id": "78061c93-6a40-41c3-aa16-32f75969289c",
   "metadata": {},
   "outputs": [
    {
     "name": "stdout",
     "output_type": "stream",
     "text": [
      "Product: 12000000\n"
     ]
    }
   ],
   "source": [
    "print(\"Product:\", np.prod(arr))"
   ]
  },
  {
   "cell_type": "code",
   "execution_count": 37,
   "id": "313e7ed9-ad0a-4dae-9502-bf77e6e208bb",
   "metadata": {},
   "outputs": [
    {
     "name": "stdout",
     "output_type": "stream",
     "text": [
      "Mean: 30.0\n"
     ]
    }
   ],
   "source": [
    "print(\"Mean:\", np.mean(arr))"
   ]
  },
  {
   "cell_type": "code",
   "execution_count": 38,
   "id": "0d1d8d3b-23d3-424a-bee1-156ee7c3d2a1",
   "metadata": {},
   "outputs": [
    {
     "name": "stdout",
     "output_type": "stream",
     "text": [
      "Median: 30.0\n"
     ]
    }
   ],
   "source": [
    "print(\"Median:\",np.median(arr))"
   ]
  },
  {
   "cell_type": "code",
   "execution_count": 39,
   "id": "db23d685-8019-4061-90f1-a2dcc7272285",
   "metadata": {},
   "outputs": [
    {
     "name": "stdout",
     "output_type": "stream",
     "text": [
      "Variance: 200.0\n"
     ]
    }
   ],
   "source": [
    "print(\"Variance:\", np.var(arr))"
   ]
  },
  {
   "cell_type": "code",
   "execution_count": 40,
   "id": "734484be-425f-4a77-8b9f-d8e48a0e2ca9",
   "metadata": {},
   "outputs": [
    {
     "name": "stdout",
     "output_type": "stream",
     "text": [
      "Standard Deviation: 14.142135623730951\n"
     ]
    }
   ],
   "source": [
    "print(\"Standard Deviation:\", np.std(arr))"
   ]
  },
  {
   "cell_type": "markdown",
   "id": "e41540f7-7ca8-4025-9762-50093e06b3eb",
   "metadata": {},
   "source": [
    "# 5. Minimum & Maximum"
   ]
  },
  {
   "cell_type": "code",
   "execution_count": 41,
   "id": "b11b1897-c5ec-4ee4-a239-bddcf3900ccb",
   "metadata": {},
   "outputs": [],
   "source": [
    "arr = np.array([15,8,22,4,19])"
   ]
  },
  {
   "cell_type": "code",
   "execution_count": 42,
   "id": "20db73f7-e6b1-4f9b-913d-579604b8a76a",
   "metadata": {},
   "outputs": [
    {
     "name": "stdout",
     "output_type": "stream",
     "text": [
      "Min: 4\n"
     ]
    }
   ],
   "source": [
    "print(\"Min:\",np.min(arr))"
   ]
  },
  {
   "cell_type": "code",
   "execution_count": 43,
   "id": "f7691e04-bc2f-44f9-926a-be49fdbc4be0",
   "metadata": {},
   "outputs": [
    {
     "name": "stdout",
     "output_type": "stream",
     "text": [
      "Max: 22\n"
     ]
    }
   ],
   "source": [
    "print(\"Max:\", np.max(arr))"
   ]
  },
  {
   "cell_type": "code",
   "execution_count": 44,
   "id": "e8e0691e-f292-4d83-ae8e-2c0ccfa65020",
   "metadata": {},
   "outputs": [
    {
     "name": "stdout",
     "output_type": "stream",
     "text": [
      "Index of Min: 3\n"
     ]
    }
   ],
   "source": [
    "print(\"Index of Min:\", np.argmin(arr))"
   ]
  },
  {
   "cell_type": "code",
   "execution_count": 45,
   "id": "24677789-7ad1-4afd-8099-f16551043be2",
   "metadata": {},
   "outputs": [
    {
     "name": "stdout",
     "output_type": "stream",
     "text": [
      "Index of Max: 2\n"
     ]
    }
   ],
   "source": [
    "print(\"Index of Max:\", np.argmax(arr))"
   ]
  },
  {
   "cell_type": "markdown",
   "id": "6da4b708-9b91-4e1c-b8b0-87d686ad8328",
   "metadata": {},
   "source": [
    "# 6. Rounding Functions"
   ]
  },
  {
   "cell_type": "code",
   "execution_count": 46,
   "id": "f590aa34-0af5-4558-8075-346088042754",
   "metadata": {},
   "outputs": [],
   "source": [
    "arr = np.array([3.7,2.3,-1.8,5.5])"
   ]
  },
  {
   "cell_type": "code",
   "execution_count": 47,
   "id": "a1f332ad-2db8-4616-950b-d8bb31fc8d2f",
   "metadata": {},
   "outputs": [
    {
     "name": "stdout",
     "output_type": "stream",
     "text": [
      "Round: [ 4.  2. -2.  6.]\n"
     ]
    }
   ],
   "source": [
    "print(\"Round:\", np.round(arr))"
   ]
  },
  {
   "cell_type": "code",
   "execution_count": 48,
   "id": "ac4bcd7f-1cf9-4134-bfc2-4a8eb62df8cb",
   "metadata": {},
   "outputs": [
    {
     "name": "stdout",
     "output_type": "stream",
     "text": [
      "Floor: [ 3.  2. -2.  5.]\n"
     ]
    }
   ],
   "source": [
    "print(\"Floor:\", np.floor(arr))"
   ]
  },
  {
   "cell_type": "code",
   "execution_count": 49,
   "id": "50dc71e8-4eec-48e9-a234-2ebc78873f8b",
   "metadata": {},
   "outputs": [
    {
     "name": "stdout",
     "output_type": "stream",
     "text": [
      "Ceil: [ 4.  3. -1.  6.]\n"
     ]
    }
   ],
   "source": [
    "print(\"Ceil:\", np.ceil(arr))"
   ]
  },
  {
   "cell_type": "markdown",
   "id": "92dc2b94-3850-409a-b692-240fc6c30120",
   "metadata": {},
   "source": [
    "# 🔹Real World Example'\n",
    "# Suppose you have students’ marks and want to calculate class performance:"
   ]
  },
  {
   "cell_type": "code",
   "execution_count": 50,
   "id": "039554ff-f4a4-4a3c-9bdb-1b842900e099",
   "metadata": {},
   "outputs": [],
   "source": [
    "marks = np.array([56,78,89,45,92,67])"
   ]
  },
  {
   "cell_type": "code",
   "execution_count": 51,
   "id": "e82419af-6b1b-41d3-9cfb-0cf0963ae5c8",
   "metadata": {},
   "outputs": [
    {
     "name": "stdout",
     "output_type": "stream",
     "text": [
      "Class Average: 71.16666666666667\n"
     ]
    }
   ],
   "source": [
    "print(\"Class Average:\", np.mean(marks))"
   ]
  },
  {
   "cell_type": "code",
   "execution_count": 52,
   "id": "f01194dc-8d32-410a-9f3e-5a24d59ccc20",
   "metadata": {},
   "outputs": [
    {
     "name": "stdout",
     "output_type": "stream",
     "text": [
      "Best Score: 92\n"
     ]
    }
   ],
   "source": [
    "print(\"Best Score:\", np.max(marks))"
   ]
  },
  {
   "cell_type": "code",
   "execution_count": 53,
   "id": "4845b66b-79da-4314-83ba-4cc835b8ec8a",
   "metadata": {},
   "outputs": [
    {
     "name": "stdout",
     "output_type": "stream",
     "text": [
      "Lowest Score: 45\n"
     ]
    }
   ],
   "source": [
    "print(\"Lowest Score:\", np.min(marks))"
   ]
  },
  {
   "cell_type": "code",
   "execution_count": 54,
   "id": "bc9f74db-c029-42b7-8a4b-b8280f9498ae",
   "metadata": {},
   "outputs": [
    {
     "name": "stdout",
     "output_type": "stream",
     "text": [
      "Score Variance: 288.47222222222223\n"
     ]
    }
   ],
   "source": [
    "print(\"Score Variance:\", np.var(marks))"
   ]
  },
  {
   "cell_type": "code",
   "execution_count": 55,
   "id": "1dadbd82-97e1-497e-97ef-483239acb9e1",
   "metadata": {},
   "outputs": [
    {
     "name": "stdout",
     "output_type": "stream",
     "text": [
      "54\n",
      "3\n"
     ]
    }
   ],
   "source": [
    "print(np.max([1,12,33,54,9]))\n",
    "print(np.min([25,65,3,99,5])) # Other way to find min & max:"
   ]
  },
  {
   "cell_type": "markdown",
   "id": "945c86ca-ccc4-4c23-80ec-1623ffb4f7ab",
   "metadata": {},
   "source": [
    "# 📘 Chapter 7: Statistical Functions in NumPy\n",
    "\n",
    "NumPy provides built-in functions to quickly compute statistics like mean, median, standard deviation, variance, etc. These are very useful in data analysis and machine learning."
   ]
  },
  {
   "cell_type": "markdown",
   "id": "9116ef00-377a-446c-950d-7d6dacf9e07e",
   "metadata": {},
   "source": [
    "# 1. Mean, Median, Mode"
   ]
  },
  {
   "cell_type": "code",
   "execution_count": 56,
   "id": "50c28e8e-c621-4e54-8915-b71601572d75",
   "metadata": {},
   "outputs": [],
   "source": [
    "import numpy as np"
   ]
  },
  {
   "cell_type": "code",
   "execution_count": 57,
   "id": "277d1884-4569-4e9a-8ab8-0f04a7e22b75",
   "metadata": {},
   "outputs": [],
   "source": [
    "arr = np.array([1,2,3,4,5,6,7,8,9])"
   ]
  },
  {
   "cell_type": "code",
   "execution_count": 58,
   "id": "d57d09fb-4f54-4dd5-96b9-a16937afabc7",
   "metadata": {},
   "outputs": [
    {
     "name": "stdout",
     "output_type": "stream",
     "text": [
      "Mean: 5.0\n"
     ]
    }
   ],
   "source": [
    "# Mean\n",
    "print(\"Mean:\", np.mean(arr))"
   ]
  },
  {
   "cell_type": "code",
   "execution_count": 59,
   "id": "e57837d7-9258-4eed-ae5c-8c2418e70c00",
   "metadata": {},
   "outputs": [
    {
     "name": "stdout",
     "output_type": "stream",
     "text": [
      "Median: 5.0\n"
     ]
    }
   ],
   "source": [
    "# Median\n",
    "print(\"Median:\", np.mean(arr))"
   ]
  },
  {
   "cell_type": "code",
   "execution_count": 60,
   "id": "2d865998-12b6-41bd-8ba5-fceb9febc843",
   "metadata": {},
   "outputs": [],
   "source": [
    "from scipy import stats"
   ]
  },
  {
   "cell_type": "code",
   "execution_count": 61,
   "id": "b83613a4-59da-408b-943e-7beaf764e41e",
   "metadata": {},
   "outputs": [
    {
     "name": "stdout",
     "output_type": "stream",
     "text": [
      "Mode: 1\n"
     ]
    }
   ],
   "source": [
    "mode_result = stats.mode(arr, keepdims = True)\n",
    "print(\"Mode:\", mode_result.mode[0])"
   ]
  },
  {
   "cell_type": "markdown",
   "id": "ec4528b4-2090-4b69-b753-5192e63acd1a",
   "metadata": {},
   "source": [
    "# 2. Standard Deviation & Variance"
   ]
  },
  {
   "cell_type": "code",
   "execution_count": 62,
   "id": "3fc723b1-70d4-4a9e-882e-a4554fddee0a",
   "metadata": {},
   "outputs": [
    {
     "name": "stdout",
     "output_type": "stream",
     "text": [
      "Standard Deviation: 2.581988897471611\n"
     ]
    }
   ],
   "source": [
    "# Standard Deviation (spread of data)\n",
    "print(\"Standard Deviation:\", np.std(arr))"
   ]
  },
  {
   "cell_type": "code",
   "execution_count": 63,
   "id": "1d5091aa-f13c-4975-8198-e6460c111309",
   "metadata": {},
   "outputs": [
    {
     "name": "stdout",
     "output_type": "stream",
     "text": [
      "Variance: 6.666666666666667\n"
     ]
    }
   ],
   "source": [
    "# Variance (square of std deviation)\n",
    "print(\"Variance:\", np.var(arr))"
   ]
  },
  {
   "cell_type": "markdown",
   "id": "f3ed06a2-aeff-41be-bbae-d86a8f989ae6",
   "metadata": {},
   "source": [
    "# 3. Min, Max, Percentile"
   ]
  },
  {
   "cell_type": "code",
   "execution_count": 64,
   "id": "5de87e65-1737-4a73-907c-4302d07834f6",
   "metadata": {},
   "outputs": [
    {
     "name": "stdout",
     "output_type": "stream",
     "text": [
      "Min: 1\n",
      "Max: 9\n"
     ]
    }
   ],
   "source": [
    "# Minimum & Maximum\n",
    "print(\"Min:\", np.min(arr))\n",
    "print(\"Max:\", np.max(arr))"
   ]
  },
  {
   "cell_type": "code",
   "execution_count": 65,
   "id": "9441dae8-7dd9-4564-bde3-c8b529072cda",
   "metadata": {},
   "outputs": [
    {
     "name": "stdout",
     "output_type": "stream",
     "text": [
      "25th Percentile: 3.0\n",
      "50th Percentile: 5.0\n",
      "75th Percentile: 7.0\n"
     ]
    }
   ],
   "source": [
    "# Percentile\n",
    "print(\"25th Percentile:\", np.percentile(arr, 25))\n",
    "print(\"50th Percentile:\", np.percentile(arr, 50))\n",
    "print(\"75th Percentile:\", np.percentile(arr, 75))"
   ]
  },
  {
   "cell_type": "markdown",
   "id": "8d0bec0f-5332-4c01-8410-cd8d746a90a1",
   "metadata": {},
   "source": [
    "# 4. Summation & Cumulative Sum"
   ]
  },
  {
   "cell_type": "code",
   "execution_count": 66,
   "id": "947eed21-3d33-4ffc-b1c9-757c53933c54",
   "metadata": {},
   "outputs": [
    {
     "name": "stdout",
     "output_type": "stream",
     "text": [
      "Sum: 45\n"
     ]
    }
   ],
   "source": [
    "# Sum of all elements\n",
    "print(\"Sum:\", np.sum(arr))"
   ]
  },
  {
   "cell_type": "code",
   "execution_count": 67,
   "id": "a3a698da-04ce-4999-9f02-23f88f58a7ae",
   "metadata": {},
   "outputs": [
    {
     "name": "stdout",
     "output_type": "stream",
     "text": [
      "Cumulative Sum: [ 1  3  6 10 15 21 28 36 45]\n"
     ]
    }
   ],
   "source": [
    "# Cumulative sum (running total)\n",
    "print(\"Cumulative Sum:\", np.cumsum(arr))"
   ]
  },
  {
   "cell_type": "markdown",
   "id": "18042c46-9450-49cb-9ab0-79f1b76d5726",
   "metadata": {},
   "source": [
    "# 📘 Chapter 8: Linear Algebra in NumPy"
   ]
  },
  {
   "cell_type": "markdown",
   "id": "df1fdb44-184c-4c08-96b2-73e554e653f1",
   "metadata": {},
   "source": [
    "The numpy.linalg module provides a collection of linear algebra routines (matrix operations). These are widely used in machine learning, data science, and scientific computing."
   ]
  },
  {
   "cell_type": "markdown",
   "id": "6e21efba-4013-4172-861e-9143a2795f84",
   "metadata": {},
   "source": [
    "# 1. Matrix Multiplication"
   ]
  },
  {
   "cell_type": "code",
   "execution_count": 68,
   "id": "4c39e765-63bf-4ea9-812e-b00663190cf9",
   "metadata": {},
   "outputs": [],
   "source": [
    "import numpy as np"
   ]
  },
  {
   "cell_type": "code",
   "execution_count": 69,
   "id": "9b7e0581-0b23-4a41-8fed-6977d200b023",
   "metadata": {},
   "outputs": [],
   "source": [
    "# Define two matrices\n",
    "A = np.array([[1,2], [3,4]])\n",
    "B = np.array([[5,6], [7,8]])"
   ]
  },
  {
   "cell_type": "code",
   "execution_count": 70,
   "id": "29b1fb23-c40f-4080-b968-ef98513b9616",
   "metadata": {},
   "outputs": [
    {
     "name": "stdout",
     "output_type": "stream",
     "text": [
      "Matrix Multiplication:\n",
      " [[19 22]\n",
      " [43 50]]\n"
     ]
    }
   ],
   "source": [
    "# Matrix Multiplication\n",
    "print(\"Matrix Multiplication:\\n\", np.dot(A, B))"
   ]
  },
  {
   "cell_type": "markdown",
   "id": "b55e9653-288d-4ed9-876d-5c01041a46f5",
   "metadata": {},
   "source": [
    "# 2. Transpose & Determinant"
   ]
  },
  {
   "cell_type": "code",
   "execution_count": 71,
   "id": "572a9678-00cf-4ac8-9c6b-66756d67ddec",
   "metadata": {},
   "outputs": [
    {
     "name": "stdout",
     "output_type": "stream",
     "text": [
      "Transpose of A:\n",
      " [[1 3]\n",
      " [2 4]]\n",
      "Transpose of B:\n",
      " [[5 7]\n",
      " [6 8]]\n"
     ]
    }
   ],
   "source": [
    "# Transpose\n",
    "print(\"Transpose of A:\\n\", A.T)\n",
    "print(\"Transpose of B:\\n\", B.T)"
   ]
  },
  {
   "cell_type": "code",
   "execution_count": 72,
   "id": "e37f558d-3f44-421c-b59b-31dafaa49dad",
   "metadata": {},
   "outputs": [
    {
     "name": "stdout",
     "output_type": "stream",
     "text": [
      "Determinant of A: -2.0000000000000004\n",
      "Determinant of B: -1.999999999999999\n"
     ]
    }
   ],
   "source": [
    "# Determinant\n",
    "print(\"Determinant of A:\", np.linalg.det(A))\n",
    "print(\"Determinant of B:\", np.linalg.det(B))"
   ]
  },
  {
   "cell_type": "markdown",
   "id": "95eac73a-6c1e-48b0-bc59-05445f89ad9b",
   "metadata": {},
   "source": [
    "# 3. Inverse & Rank"
   ]
  },
  {
   "cell_type": "code",
   "execution_count": 73,
   "id": "dbfbfc11-de8f-4382-8887-3d234f869f84",
   "metadata": {},
   "outputs": [
    {
     "name": "stdout",
     "output_type": "stream",
     "text": [
      "Inverse of Matrix:\n",
      " [[-2.   1. ]\n",
      " [ 1.5 -0.5]]\n",
      "Inverse of Matrix:\n",
      " [[-4.   3. ]\n",
      " [ 3.5 -2.5]]\n"
     ]
    }
   ],
   "source": [
    "# Inverse of Matrix\n",
    "print(\"Inverse of Matrix:\\n\", np.linalg.inv(A))\n",
    "print(\"Inverse of Matrix:\\n\", np.linalg.inv(B))"
   ]
  },
  {
   "cell_type": "code",
   "execution_count": 74,
   "id": "a6e0c16d-5da3-4f7a-901d-89021a3b6696",
   "metadata": {},
   "outputs": [
    {
     "name": "stdout",
     "output_type": "stream",
     "text": [
      "Rank of A:\n",
      " 2\n",
      "Rank of B:\n",
      " 2\n"
     ]
    }
   ],
   "source": [
    "# Rank of a Matrix\n",
    "print(\"Rank of A:\\n\", np.linalg.matrix_rank(A))\n",
    "print(\"Rank of B:\\n\", np.linalg.matrix_rank(B))"
   ]
  },
  {
   "cell_type": "markdown",
   "id": "f35f86e9-5015-41b9-8763-e775977ba263",
   "metadata": {},
   "source": [
    "# 4. Eigenvalues & Eigenvectors"
   ]
  },
  {
   "cell_type": "code",
   "execution_count": 75,
   "id": "81d5a3a1-8aaf-419c-a2ad-15bc65c6684e",
   "metadata": {},
   "outputs": [],
   "source": [
    "import numpy as np"
   ]
  },
  {
   "cell_type": "code",
   "execution_count": 76,
   "id": "f6fa8c47-6520-4b16-b5f9-28f31c42fa02",
   "metadata": {},
   "outputs": [],
   "source": [
    "A = np.array([[1,2], [3,4]])"
   ]
  },
  {
   "cell_type": "code",
   "execution_count": 77,
   "id": "62961b22-11c9-4b73-baf7-c5bac31b1870",
   "metadata": {},
   "outputs": [
    {
     "name": "stdout",
     "output_type": "stream",
     "text": [
      "Eigenvalues: [-0.37228132  5.37228132]\n",
      "Eigenvectors: [[-0.82456484 -0.41597356]\n",
      " [ 0.56576746 -0.90937671]]\n"
     ]
    }
   ],
   "source": [
    "# Eigenvalues & Eigenvectors\n",
    "eigenvalues, eigenvectors = np.linalg.eig(A)\n",
    "print(\"Eigenvalues:\", eigenvalues)\n",
    "print(\"Eigenvectors:\", eigenvectors)"
   ]
  },
  {
   "cell_type": "code",
   "execution_count": 78,
   "id": "90d36614-dcc4-40a8-957f-66821d1fd757",
   "metadata": {},
   "outputs": [
    {
     "name": "stdout",
     "output_type": "stream",
     "text": [
      "Eigenvalues: [-0.15206735 13.15206735]\n",
      "Eigenvectors: [[-0.75868086 -0.59276441]\n",
      " [ 0.65146248 -0.80537591]]\n"
     ]
    }
   ],
   "source": [
    "eigenvalues, eigenvectors = np.linalg.eig(B)\n",
    "print(\"Eigenvalues:\", eigenvalues)\n",
    "print(\"Eigenvectors:\", eigenvectors)"
   ]
  },
  {
   "cell_type": "markdown",
   "id": "711bfbb8-bec6-4aef-8480-aea7973e20bc",
   "metadata": {},
   "source": [
    "# 5. Solving Linear Equations"
   ]
  },
  {
   "cell_type": "markdown",
   "id": "e9590da0-781f-401f-872f-7399f0747165",
   "metadata": {},
   "source": [
    "Example: Solve system of equations\n",
    "  2x+y=5x−y=1"
   ]
  },
  {
   "cell_type": "code",
   "execution_count": 79,
   "id": "713391f5-8a0e-473a-8d92-9fbcb608a709",
   "metadata": {},
   "outputs": [],
   "source": [
    "# # Coefficient matrix\n",
    "coeff = np.array([[2,1],[1,-1]])"
   ]
  },
  {
   "cell_type": "code",
   "execution_count": 80,
   "id": "b5bc6b71-984f-4f97-ba6a-efa79bffcaec",
   "metadata": {},
   "outputs": [],
   "source": [
    "# Constants\n",
    "const = np.array([5,1])"
   ]
  },
  {
   "cell_type": "code",
   "execution_count": 81,
   "id": "04c3e653-0d41-460d-9410-e2c6cb217bb8",
   "metadata": {},
   "outputs": [
    {
     "name": "stdout",
     "output_type": "stream",
     "text": [
      "Solution of equations: [2. 1.]\n"
     ]
    }
   ],
   "source": [
    "# Solve Ax = b\n",
    "solution = np.linalg.solve(coeff,const)\n",
    "print(\"Solution of equations:\", solution)"
   ]
  },
  {
   "cell_type": "markdown",
   "id": "de996936-3271-4304-b514-2bbab1b96332",
   "metadata": {},
   "source": [
    "# Chapter 9: Numpy with Real Data"
   ]
  },
  {
   "cell_type": "markdown",
   "id": "acb6f816-c352-44b4-b8c3-be7b515774e1",
   "metadata": {},
   "source": [
    "# 1. Loading data from CSV"
   ]
  },
  {
   "cell_type": "code",
   "execution_count": 4,
   "id": "935c6e28-8ebd-41d2-b752-299c81c00c4a",
   "metadata": {},
   "outputs": [],
   "source": [
    "import numpy as np"
   ]
  },
  {
   "cell_type": "code",
   "execution_count": 5,
   "id": "38113b45-bc4f-48d3-be72-a659b02de22e",
   "metadata": {},
   "outputs": [
    {
     "name": "stdout",
     "output_type": "stream",
     "text": [
      "[1 2 3]\n"
     ]
    }
   ],
   "source": [
    "arr = np.array([1,2,3])\n",
    "print(arr)"
   ]
  },
  {
   "cell_type": "code",
   "execution_count": 6,
   "id": "0269737e-2884-4fd4-bb59-d54ee4b1749a",
   "metadata": {},
   "outputs": [],
   "source": [
    "data = np.genfromtxt(\"C:/Users/mugee/OneDrive/Desktop/Sales.csv\",dtype=None, encoding=\"utf-8\")"
   ]
  },
  {
   "cell_type": "code",
   "execution_count": 7,
   "id": "92320bb4-91aa-471a-92b9-068ac635c0cf",
   "metadata": {},
   "outputs": [
    {
     "name": "stdout",
     "output_type": "stream",
     "text": [
      "(6,)\n"
     ]
    }
   ],
   "source": [
    "print(data.shape)"
   ]
  },
  {
   "cell_type": "code",
   "execution_count": 8,
   "id": "290f83b1-6243-4dcd-8e88-f645a28d3986",
   "metadata": {},
   "outputs": [
    {
     "name": "stdout",
     "output_type": "stream",
     "text": [
      "['Date,Product,Price,Quantity' '01-01-2025,Laptop,50000,2'\n",
      " '02-01-2025,Phone,20000,3' '03-01-2025,Tablet,30000,1'\n",
      " '04-01-2025,Headphones,5000,5']\n"
     ]
    }
   ],
   "source": [
    "print(data[:5])"
   ]
  },
  {
   "cell_type": "markdown",
   "id": "e74d0ff5-ddc2-406a-83f4-f63f79ef3dcf",
   "metadata": {},
   "source": [
    "# 2. Working on specific column"
   ]
  },
  {
   "cell_type": "code",
   "execution_count": 23,
   "id": "eb0b65f1-cea4-457b-aa07-fa036e76f29f",
   "metadata": {},
   "outputs": [],
   "source": [
    "price = data[:,2].astype(float)"
   ]
  },
  {
   "cell_type": "code",
   "execution_count": 24,
   "id": "e8db15bc-89d9-468f-b305-ae1ac09f9b79",
   "metadata": {},
   "outputs": [
    {
     "name": "stdout",
     "output_type": "stream",
     "text": [
      "First 3 sales values:\n",
      " [['01-01-2025' 'Laptop' '50000' '2']\n",
      " ['02-01-2025' 'Phone' '20000' '3']\n",
      " ['03-01-2025' 'Tablet' '30000' '1']]\n"
     ]
    }
   ],
   "source": [
    "print(\"First 3 sales values:\\n\", data[:3])"
   ]
  },
  {
   "cell_type": "markdown",
   "id": "e3f5518f-2d00-44d1-ac36-ab3128bf0377",
   "metadata": {},
   "source": [
    "# 3. Perform Statistic on a column "
   ]
  },
  {
   "cell_type": "code",
   "execution_count": 29,
   "id": "0ab12f0d-8e98-4b17-a270-87c21a41a859",
   "metadata": {},
   "outputs": [],
   "source": [
    "import numpy as np"
   ]
  },
  {
   "cell_type": "code",
   "execution_count": 30,
   "id": "50244393-b812-4da5-83ab-05016a7563e8",
   "metadata": {},
   "outputs": [],
   "source": [
    "# Example data (like your screenshot)\n",
    "data = np.array([\n",
    "    [\"01-01-2025\", \"Laptop\", \"50000\", \"2\"],\n",
    "    [\"02-01-2025\", \"Phone\", \"20000\", \"3\"],\n",
    "    [\"03-01-2025\", \"Tablet\", \"30000\", \"1\"]\n",
    "])"
   ]
  },
  {
   "cell_type": "code",
   "execution_count": 31,
   "id": "d27dc18a-e400-442e-8d6e-d615d1b86cec",
   "metadata": {},
   "outputs": [],
   "source": [
    "# Convert columns to numeric\n",
    "prices = data[:, 2].astype(float)      # Price column\n",
    "quantities = data[:, 3].astype(float)  # Quantity column"
   ]
  },
  {
   "cell_type": "code",
   "execution_count": 32,
   "id": "362a6219-99ee-4f93-86ba-a29db07f1343",
   "metadata": {},
   "outputs": [
    {
     "name": "stdout",
     "output_type": "stream",
     "text": [
      "Price Mean: 33333.333333333336\n",
      "Price Median: 30000.0\n",
      "Price Std Dev: 12472.191289246472\n"
     ]
    }
   ],
   "source": [
    "# Statistics\n",
    "print(\"Price Mean:\", np.mean(prices))\n",
    "print(\"Price Median:\", np.median(prices))\n",
    "print(\"Price Std Dev:\", np.std(prices))"
   ]
  },
  {
   "cell_type": "code",
   "execution_count": 33,
   "id": "a3a40015-6afe-4a84-bc38-8afefeda991f",
   "metadata": {},
   "outputs": [
    {
     "name": "stdout",
     "output_type": "stream",
     "text": [
      "Quantity Mean: 2.0\n",
      "Quantity Median: 2.0\n",
      "Quantity Std Dev: 0.816496580927726\n"
     ]
    }
   ],
   "source": [
    "print(\"Quantity Mean:\", np.mean(quantities))\n",
    "print(\"Quantity Median:\", np.median(quantities))\n",
    "print(\"Quantity Std Dev:\", np.std(quantities))"
   ]
  },
  {
   "cell_type": "markdown",
   "id": "cd9c6841-5906-425e-858f-d2a52a9c208a",
   "metadata": {},
   "source": [
    "# 4.Filter data (Boolean Indexing)"
   ]
  },
  {
   "cell_type": "code",
   "execution_count": 38,
   "id": "d67b458e-64d3-4f19-833a-b226808ad3fd",
   "metadata": {},
   "outputs": [
    {
     "name": "stdout",
     "output_type": "stream",
     "text": [
      "High sales [50000. 20000. 30000.]\n"
     ]
    }
   ],
   "source": [
    "# Find sales greater than 5000\n",
    "high_sales = price[price>5000]\n",
    "print(\"High sales\", high_sales[:5])"
   ]
  },
  {
   "cell_type": "markdown",
   "id": "338d1fc2-4a2c-44c8-93ac-e2282e409bb1",
   "metadata": {},
   "source": [
    "# 5. Save processed results back to CSV"
   ]
  },
  {
   "cell_type": "code",
   "execution_count": 43,
   "id": "2e11cfb7-c9b4-4fb1-add2-d01c69215ba0",
   "metadata": {},
   "outputs": [],
   "source": [
    "np.savetxt(\"Processed_sales.csv\",data, delimiter=\",\", header=\"sales\", comments=\"\", fmt=\"%s\")"
   ]
  },
  {
   "cell_type": "code",
   "execution_count": 44,
   "id": "63032054-5c82-4993-a8e8-9d57064fc194",
   "metadata": {},
   "outputs": [
    {
     "name": "stdout",
     "output_type": "stream",
     "text": [
      "Processed sales saved to processed_sales.csv\n"
     ]
    }
   ],
   "source": [
    "print(\"Processed sales saved to processed_sales.csv\")"
   ]
  },
  {
   "cell_type": "markdown",
   "id": "581cd4fa-be61-49a1-90ac-f4b1e8e0a769",
   "metadata": {},
   "source": [
    "# Chapter 10: Load Data from Files"
   ]
  },
  {
   "cell_type": "markdown",
   "id": "65dadb9c-7b38-4e83-8903-ffc71342b736",
   "metadata": {},
   "source": [
    "# 1. Load CSV file (numeric only)"
   ]
  },
  {
   "cell_type": "code",
   "execution_count": 49,
   "id": "fadd82f6-d3ce-485d-8cea-473315065ced",
   "metadata": {},
   "outputs": [],
   "source": [
    "import numpy as np"
   ]
  },
  {
   "cell_type": "code",
   "execution_count": 56,
   "id": "06b2c0ba-7366-421f-9662-11d3b85774b5",
   "metadata": {},
   "outputs": [],
   "source": [
    "sales_data = np.loadtxt(\"processed_sales.csv\", delimiter=\",\",skiprows=1,dtype=str)"
   ]
  },
  {
   "cell_type": "code",
   "execution_count": 51,
   "id": "6ce12174-99bf-4799-b4a9-d2d97728fb1e",
   "metadata": {},
   "outputs": [
    {
     "name": "stdout",
     "output_type": "stream",
     "text": [
      "Loaded Data:\n",
      " [['01-01-2025' 'Laptop' '50000' '2']\n",
      " ['02-01-2025' 'Phone' '20000' '3']\n",
      " ['03-01-2025' 'Tablet' '30000' '1']]\n"
     ]
    }
   ],
   "source": [
    "print(\"Loaded Data:\\n\", sales_data)"
   ]
  },
  {
   "cell_type": "markdown",
   "id": "dc158c80-d0e2-41e7-874e-8aec333293fc",
   "metadata": {},
   "source": [
    "# 2. Load mixed data"
   ]
  },
  {
   "cell_type": "code",
   "execution_count": 53,
   "id": "a6edc07d-da69-494d-a44b-a6c3990b3f92",
   "metadata": {},
   "outputs": [],
   "source": [
    "sales_data = np.genfromtxt(\"Processed_sales.csv\", delimiter=\",\", dtype=str, skip_header=1)"
   ]
  },
  {
   "cell_type": "code",
   "execution_count": 54,
   "id": "7b21031a-765f-44bd-bf4e-ed4919e93139",
   "metadata": {},
   "outputs": [
    {
     "name": "stdout",
     "output_type": "stream",
     "text": [
      "Loaded data from genfromtxt:\n",
      " [['01-01-2025' 'Laptop' '50000' '2']\n",
      " ['02-01-2025' 'Phone' '20000' '3']\n",
      " ['03-01-2025' 'Tablet' '30000' '1']]\n"
     ]
    }
   ],
   "source": [
    "print(\"Loaded data from genfromtxt:\\n\", sales_data)"
   ]
  },
  {
   "cell_type": "markdown",
   "id": "24dfd61d-44bc-4580-bfa3-95d6b5d75168",
   "metadata": {},
   "source": [
    "# 3. Check Shape & Type "
   ]
  },
  {
   "cell_type": "code",
   "execution_count": 58,
   "id": "fbcfc6cd-5eea-497b-8a82-4ca814f66bf9",
   "metadata": {},
   "outputs": [
    {
     "name": "stdout",
     "output_type": "stream",
     "text": [
      "Shape: (3, 4)\n"
     ]
    }
   ],
   "source": [
    "print(\"Shape:\",sales_data.shape)"
   ]
  },
  {
   "cell_type": "code",
   "execution_count": 60,
   "id": "3f205029-9c5e-411f-bc07-75f1f4bcbcd7",
   "metadata": {},
   "outputs": [
    {
     "name": "stdout",
     "output_type": "stream",
     "text": [
      "Data Type: <U10\n"
     ]
    }
   ],
   "source": [
    "print(\"Data Type:\",sales_data.dtype)"
   ]
  },
  {
   "cell_type": "code",
   "execution_count": null,
   "id": "2c41fc2d-7c58-47d8-98a6-9ff1d281dd54",
   "metadata": {},
   "outputs": [],
   "source": []
  }
 ],
 "metadata": {
  "kernelspec": {
   "display_name": "Python 3 (ipykernel)",
   "language": "python",
   "name": "python3"
  },
  "language_info": {
   "codemirror_mode": {
    "name": "ipython",
    "version": 3
   },
   "file_extension": ".py",
   "mimetype": "text/x-python",
   "name": "python",
   "nbconvert_exporter": "python",
   "pygments_lexer": "ipython3",
   "version": "3.12.4"
  }
 },
 "nbformat": 4,
 "nbformat_minor": 5
}
